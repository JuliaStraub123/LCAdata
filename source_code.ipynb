{
 "cells": [
  {
   "cell_type": "markdown",
   "id": "923b497c",
   "metadata": {},
   "source": [
    "supplementary material for **Data management in life cycle assessment - a wastewater case study**, Julia Straub"
   ]
  },
  {
   "cell_type": "markdown",
   "id": "ec1a8cfc",
   "metadata": {},
   "source": [
    "**source code for automated LCI generation with WWTP database**"
   ]
  },
  {
   "cell_type": "code",
   "execution_count": 1,
   "id": "92d7bcd1",
   "metadata": {},
   "outputs": [],
   "source": [
    "import pandas as pd\n",
    "import json\n",
    "import numpy as np\n",
    "import openpyxl as opx"
   ]
  },
  {
   "cell_type": "markdown",
   "id": "4e110cf1",
   "metadata": {},
   "source": [
    "Load database with WWTP data"
   ]
  },
  {
   "cell_type": "code",
   "execution_count": 2,
   "id": "d0be088b",
   "metadata": {},
   "outputs": [],
   "source": [
    "with open(\"database.json\",\"r\") as main:\n",
    "    wwtp_data = json.load(main)"
   ]
  },
  {
   "cell_type": "markdown",
   "id": "22d05d74",
   "metadata": {},
   "source": [
    "Create DataFrame that contains material, material type, quantity and unit for input and output site,<br>\n",
    "materials obtained from ecoinvent 3.8 database by ecoinvent Association 2021,<br>\n",
    "(except user generated materials: wastewater influent, sewage sludge wet, screenings, grit chamber trappings, wastewater effluent)"
   ]
  },
  {
   "cell_type": "code",
   "execution_count": 3,
   "id": "1aed43e4",
   "metadata": {},
   "outputs": [],
   "source": [
    "wastewater_treatment_df = pd.DataFrame(\n",
    "{\n",
    "    \"mat_in\": [\n",
    "        \"wastewater influent\",\n",
    "        \"electricity, medium voltage\",\n",
    "        \"natural gas, low pressure\",\n",
    "        \"light fuel oil\",\n",
    "        \"aluminium sulfate, without water, in 4.33% aluminium solution state\",\n",
    "        \"iron(III) sulfate, without water, in 12.5% iron solution state\",\n",
    "        \"iron(III) chloride, without water, in a 12% iron solution state\",\n",
    "        \"iron(II) chloride\",\n",
    "        \"sodium aluminate, powder\",\n",
    "        \"polyaluminium chloride\",\n",
    "        \" \",\n",
    "        \" \",\n",
    "        \" \",\n",
    "        \" \"\n",
    "    ],\n",
    "    \"type_in\": [\n",
    "        \"Bad\",\n",
    "        \"Good\",\n",
    "        \"Good\",\n",
    "        \"Good\",\n",
    "        \"Good\",\n",
    "        \"Good\",\n",
    "        \"Good\",\n",
    "        \"Good\",\n",
    "        \"Good\",\n",
    "        \"Good\",\n",
    "        \"Good\",\n",
    "        \"Good\",\n",
    "        \"Good\",\n",
    "        \"Good\"\n",
    "    ],\n",
    "    \"quan_in\": [\n",
    "        0.0,\n",
    "        0.0,\n",
    "        0.0,\n",
    "        0.0,\n",
    "        0.0,\n",
    "        0.0,\n",
    "        0.0,\n",
    "        0.0,\n",
    "        0.0,\n",
    "        0.0,\n",
    "        0.0,\n",
    "        0.0,\n",
    "        0.0,\n",
    "        0.0\n",
    "    ],\n",
    "    \"unit_in\":[\n",
    "        \"m³\",\n",
    "        \"kWh\",\n",
    "        \"m3\",\n",
    "        \"kg\",\n",
    "        \"kg\",\n",
    "        \"kg\",\n",
    "        \"kg\",\n",
    "        \"kg\",\n",
    "        \"kg\",\n",
    "        \"kg\",\n",
    "        \" \",\n",
    "        \" \",\n",
    "        \" \",\n",
    "        \" \"\n",
    "    ],\n",
    "    \"mat_out\": [\n",
    "        \"BOD5, Biological Oxygen Demand [water/surface water]\",\n",
    "        \"COD, Chemical Oxygen Demand [water/surface water]\",\n",
    "        \"Ammonium, ion [water/surface water]\",\n",
    "        \"Nitrate [water/surface water]\",\n",
    "        \"Nitrite [water/surface water]\",\n",
    "        \"Phosphorus [water/surface water]\",\n",
    "        \"Methane, non-fossil [air/unspecified]\",\n",
    "        \"Dinitrogen monoxide [air/unspecified]\",\n",
    "        \"sewage sludge wet\",\n",
    "        \"sewage sludge wet\",\n",
    "        \"sewage sludge wet\",\n",
    "        \"screenings\",\n",
    "        \"grit chamber trappings\",\n",
    "        \"wastewater effluent\"\n",
    "    ],\n",
    "    \"type_out\": [\n",
    "        \"Bad\",\n",
    "        \"Bad\",\n",
    "        \"Bad\",\n",
    "        \"Bad\",\n",
    "        \"Bad\",\n",
    "        \"Bad\",\n",
    "        \"Bad\",\n",
    "        \"Bad\",\n",
    "        \"Bad\",\n",
    "        \"Bad\",\n",
    "        \"Bad\",\n",
    "        \"Bad\",\n",
    "        \"Bad\",\n",
    "        \"Neutral\"\n",
    "    ],\n",
    "    \"quan_out\": [\n",
    "        0.0,\n",
    "        0.0,\n",
    "        0.0,\n",
    "        0.0,\n",
    "        0.0,\n",
    "        0.0,\n",
    "        0.0,\n",
    "        0.0,\n",
    "        0.0,\n",
    "        0.0,\n",
    "        0.0,\n",
    "        0.0,\n",
    "        0.0,\n",
    "        0.0\n",
    "    ],\n",
    "    \"unit_out\":[\n",
    "        \"kg\",\n",
    "        \"kg\",\n",
    "        \"kg\",\n",
    "        \"kg\",\n",
    "        \"kg\",\n",
    "        \"kg\",\n",
    "        \"kg\",\n",
    "        \"kg\",\n",
    "        \"t\",\n",
    "        \"t\",\n",
    "        \"t\",\n",
    "        \"t\",\n",
    "        \"t\",\n",
    "        \"m³\"\n",
    "    ]\n",
    "})"
   ]
  },
  {
   "cell_type": "code",
   "execution_count": 4,
   "id": "b91fcb7a",
   "metadata": {},
   "outputs": [],
   "source": [
    "wastewater_treatment_df.iloc[10:14, 0:4] = np.nan"
   ]
  },
  {
   "cell_type": "markdown",
   "id": "bebfb232",
   "metadata": {},
   "source": [
    "List with names of precipitants"
   ]
  },
  {
   "cell_type": "code",
   "execution_count": 5,
   "id": "dbfc2532",
   "metadata": {},
   "outputs": [],
   "source": [
    "precipitants = ['aluminium sulfate', 'iron(III) sulfate',\n",
    "                'iron(III) chloride', 'iron(II) chloride',\n",
    "                'sodium aluminate', 'polyaluminium chloride']"
   ]
  },
  {
   "cell_type": "markdown",
   "id": "5bbb55b2",
   "metadata": {},
   "source": [
    "**Write values from WWTP database to DataFrame wastewater_treatment_df**"
   ]
  },
  {
   "cell_type": "code",
   "execution_count": 6,
   "id": "1dfb0016",
   "metadata": {},
   "outputs": [],
   "source": [
    "#Input\n",
    "wastewater_treatment_df.at[0, 'quan_in'] = wwtp_data['influent']['wastewater_influent']\n",
    "wastewater_treatment_df.at[1, 'quan_in'] = wwtp_data['energy']['electricity_from_grid']\n",
    "wastewater_treatment_df.at[2, 'quan_in'] = wwtp_data['energy']['natural_gas_consumption']\n",
    "wastewater_treatment_df.at[3, 'quan_in'] = wwtp_data['energy']['fuel_oil_consumption']\n",
    "\n",
    "#precipitant\n",
    "if wwtp_data['plant']['phosphorus_eliminiation'] == True:\n",
    "    num = 0\n",
    "    for i in range(6):\n",
    "        if wwtp_data['plant']['phosphorus_precipitant'] == precipitants[i]:\n",
    "            num = i + 4\n",
    "            wastewater_treatment_df.at[num, 'quan_in'] = wwtp_data['plant']['precipitant_consumption']\n",
    "#Output\n",
    "#effluent [1]\n",
    "wastewater_treatment_df.at[0, 'quan_out'] = wwtp_data['effluent']['BOD'] * \\\n",
    "(wwtp_data['influent']['wastewater_influent'] - wwtp_data['sludge']['sludge']['volume']) * 10**(-3)\n",
    "wastewater_treatment_df.at[1, 'quan_out'] = wwtp_data['effluent']['COD'] * \\\n",
    "(wwtp_data['influent']['wastewater_influent'] - wwtp_data['sludge']['sludge']['volume']) * 10**(-3)\n",
    "wastewater_treatment_df.at[2, 'quan_out'] = wwtp_data['effluent']['NH4-N'] * \\\n",
    "(wwtp_data['influent']['wastewater_influent'] - wwtp_data['sludge']['sludge']['volume']) * 10**(-3) * 1.29\n",
    "wastewater_treatment_df.at[3, 'quan_out'] = wwtp_data['effluent']['NO3-N'] * \\\n",
    "(wwtp_data['influent']['wastewater_influent'] - wwtp_data['sludge']['sludge']['volume']) * 10**(-3) * 4.43\n",
    "wastewater_treatment_df.at[4, 'quan_out'] = wwtp_data['effluent']['NO2-N'] * \\\n",
    "(wwtp_data['influent']['wastewater_influent'] - wwtp_data['sludge']['sludge']['volume']) * 10**(-3) * 3.28\n",
    "wastewater_treatment_df.at[5, 'quan_out'] = wwtp_data['effluent']['Ptot'] * \\\n",
    "(wwtp_data['influent']['wastewater_influent'] - wwtp_data['sludge']['sludge']['volume']) * 10**(-3)\n",
    "\n",
    "#GHG emissions[2]\n",
    "#methane\n",
    "wastewater_treatment_df.at[6, 'quan_out'] = wwtp_data['effluent']['BOD'] * \\\n",
    "(wwtp_data['influent']['wastewater_influent'] - wwtp_data['sludge']['sludge']['volume']) * 10**(-3) * 0.068\n",
    "\n",
    "#nitrous oxide\n",
    "n2o = (wwtp_data['influent']['totN'] * wwtp_data['influent']['wastewater_influent'] * 10**(-3) * 0.016 * 44/28) + \\\n",
    "(wwtp_data['effluent']['totN'] * \\\n",
    "(wwtp_data['influent']['wastewater_influent'] - wwtp_data['sludge']['sludge']['volume']) * 10**(-3) * 0.005 * 44/28)\n",
    "wastewater_treatment_df.at[7, 'quan_out'] = n2o\n",
    "\n",
    "#sewage sludge to disposal/dewatering\n",
    "wastewater_treatment_df.at[8, 'quan_out'] = wwtp_data['sludge']['sludge']['volume'] * \\\n",
    "wwtp_data['disposal']['agriculture']\n",
    "wastewater_treatment_df.at[9, 'quan_out'] = wwtp_data['sludge']['sludge']['volume'] * \\\n",
    "wwtp_data['disposal']['humification']\n",
    "wastewater_treatment_df.at[10, 'quan_out'] = wwtp_data['sludge']['sludge']['volume'] * \\\n",
    "wwtp_data['disposal']['dewatering']\n",
    "\n",
    "#screenings[3]\n",
    "if wwtp_data['sludge']['screenings'] == None:\n",
    "    wastewater_treatment_df.at[11, 'quan_out'] = wwtp_data['influent']['load'] * 1.4 * 10**(-3)\n",
    "else:\n",
    "    wastewater_treatment_df.at[11, 'quan_out'] = wwtp_data['sludge']['screenings']\n",
    "    \n",
    "#grit chamber trappings\n",
    "wastewater_treatment_df.at[12, 'quan_out'] = wwtp_data['sludge']['grit_chamber_trappings']\n",
    "\n",
    "#effluent\n",
    "wastewater_treatment_df.at[13, 'quan_out'] = wwtp_data['influent']['wastewater_influent'] - \\\n",
    "wwtp_data['sludge']['sludge']['volume']"
   ]
  },
  {
   "cell_type": "markdown",
   "id": "a90bf57c",
   "metadata": {},
   "source": [
    "[1] The factors used to transform NH4-N, NO3-N and NO2-N into NH4, NO3, and NO2 are obtained from Landesamt fur Natur, Umwelt und Verbraucherschutz Nordrhein-Westfalen, https://www.abfall-nrw.de/abanda/help/1_umrechnung.htm"
   ]
  },
  {
   "cell_type": "markdown",
   "id": "27d6992d",
   "metadata": {},
   "source": [
    "[2] The emissions of methane and nitrous oxide are calculated according to the guidelines of the IPCC, using the emission factors of the IPCC, 2019 Refinement to the 2006 IPCC Guidelines for National Greenhouse Gas Inventories: Volume 5: Waste,\n",
    "Chapter 6: WASTEWATER TREATMENT AND DISCHARGE, https://www.ipcc-nggip.iges.or.jp/public/2019rf/vol5.html"
   ]
  },
  {
   "cell_type": "markdown",
   "id": "2138e377",
   "metadata": {},
   "source": [
    "[3] The factor to calculate the amount of screenings is obtained from Kuhn M., Gregor H. 2013. Rechengutanfall und -qualität. Korrespondenz Abwasser. 1/2013, Bd. 60., p. 30 - 36"
   ]
  },
  {
   "cell_type": "markdown",
   "id": "d1877b96",
   "metadata": {},
   "source": [
    "**Transfer values of Dataframe to xlsx template**"
   ]
  },
  {
   "cell_type": "code",
   "execution_count": 7,
   "id": "eb1eaeb8",
   "metadata": {},
   "outputs": [],
   "source": [
    "wb = opx.load_workbook(\"templ.xlsx\")\n",
    "ws = wb.active\n",
    "#input\n",
    "for i in range(10):\n",
    "    ws.cell(row = i + 4, column = 1, value = wastewater_treatment_df[\"mat_in\"][i])\n",
    "    ws.cell(row = i + 4, column = 4, value = wastewater_treatment_df[\"type_in\"][i])\n",
    "    ws.cell(row = i + 4, column = 6, value = wastewater_treatment_df[\"quan_in\"][i])\n",
    "    ws.cell(row = i + 4, column = 7, value = wastewater_treatment_df[\"unit_in\"][i])\n",
    "#output\n",
    "for i in range(14):\n",
    "    ws.cell(row = i + 4, column = 9, value = wastewater_treatment_df[\"mat_out\"][i])\n",
    "    ws.cell(row = i + 4, column = 12, value = wastewater_treatment_df[\"type_out\"][i])\n",
    "    ws.cell(row = i + 4, column = 14, value = wastewater_treatment_df[\"quan_out\"][i])\n",
    "    ws.cell(row = i + 4, column =15, value = wastewater_treatment_df[\"unit_out\"][i])\n",
    "wb.save(\"wastewater_treatment.xlsx\")"
   ]
  }
 ],
 "metadata": {
  "kernelspec": {
   "display_name": "Python (osmnx jupyter notebook)",
   "language": "python",
   "name": "base-osmnx-jupyter-notebook"
  },
  "language_info": {
   "codemirror_mode": {
    "name": "ipython",
    "version": 3
   },
   "file_extension": ".py",
   "mimetype": "text/x-python",
   "name": "python",
   "nbconvert_exporter": "python",
   "pygments_lexer": "ipython3",
   "version": "3.10.5"
  }
 },
 "nbformat": 4,
 "nbformat_minor": 5
}
